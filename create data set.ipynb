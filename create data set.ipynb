{
 "cells": [
  {
   "cell_type": "code",
   "execution_count": null,
   "metadata": {},
   "outputs": [],
   "source": [
    "#import library\n",
    "import cv2\n",
    "import numpy as np\n",
    "\n",
    "#doownload haarcascade file and set path haarcascade file\n",
    "face_classifier = cv2.CascadeClassifier('C:/Users/Anurag/Downloads/face-recognition-master/face-recognition-master/haarcascade_frontalface_default.xml')\n",
    "\n",
    "\n",
    "# load face\n",
    "def face_extractor(img):\n",
    "\n",
    "    gray = cv2.cvtColor(img,cv2.COLOR_BGR2GRAY)\n",
    "    faces = face_classifier.detectMultiScale(gray,1.3,5)\n",
    "\n",
    "    if faces is():\n",
    "        return None\n",
    "\n",
    "    for(x,y,w,h) in faces:\n",
    "        cropped_face = img[y:y+h, x:x+w]\n",
    "\n",
    "    return cropped_face\n",
    "\n",
    "#open web cam your system\n",
    "cap = cv2.VideoCapture(0)\n",
    "count = 0\n",
    "\n",
    "while True:\n",
    "    ret, frame = cap.read()     #set variable for imaage\n",
    "    if face_extractor(frame) is not None:\n",
    "        count=count+1\n",
    "        face = cv2.resize(face_extractor(frame),(200,200))\n",
    "        face = cv2.cvtColor(face, cv2.COLOR_BGR2GRAY)    # set color in image\n",
    "\n",
    "        file_name_path = 'D:/Data_science/project/faces/anurag/'+str(count)+'.jpg'   #set dataset path whhich floder store image\n",
    "\n",
    "        cv2.imwrite(file_name_path,face)   # show and seen the image \n",
    "\n",
    "        cv2.putText(face,str(count),(50,50),cv2.FONT_HERSHEY_COMPLEX,1,(0,255,0),2)\n",
    "        cv2.imshow('Face Cropper',face)    # show windows with image\n",
    "    else:\n",
    "        print(\"Face not found\")\n",
    "        pass\n",
    "\n",
    "\n",
    "    if cv2.waitKey(1)==13 or count==100:  # 100 image capture by camera at a time\n",
    "        break\n",
    "\n",
    "cap.release()    \n",
    "cv2.destroyAllWindows()    #close image window\n",
    "print('Samples Colletion Completed ')"
   ]
  },
  {
   "cell_type": "code",
   "execution_count": null,
   "metadata": {},
   "outputs": [],
   "source": []
  }
 ],
 "metadata": {
  "kernelspec": {
   "display_name": "Python 3",
   "language": "python",
   "name": "python3"
  },
  "language_info": {
   "codemirror_mode": {
    "name": "ipython",
    "version": 3
   },
   "file_extension": ".py",
   "mimetype": "text/x-python",
   "name": "python",
   "nbconvert_exporter": "python",
   "pygments_lexer": "ipython3",
   "version": "3.7.9"
  }
 },
 "nbformat": 4,
 "nbformat_minor": 4
}
